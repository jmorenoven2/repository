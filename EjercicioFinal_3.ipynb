{
 "cells": [
  {
   "cell_type": "code",
   "execution_count": 1,
   "metadata": {},
   "outputs": [
    {
     "name": "stdout",
     "output_type": "stream",
     "text": [
      "Using matplotlib backend: Qt5Agg\n",
      "Populating the interactive namespace from numpy and matplotlib\n"
     ]
    }
   ],
   "source": [
    "%pylab\n",
    "%matplotlib inline\n",
    "\n",
    "%config InlineBackend.figure_format = 'retina'\n"
   ]
  },
  {
   "cell_type": "markdown",
   "metadata": {},
   "source": [
    "## Ejercicio 3: Usando el archivo crime_data.csv, Segmenta este conjunto de datos utilizando k-means y obtén los centroides de cada clúster y el listado de los estados en cada uno de los clústeres. Para ello, se ha de encontrar el número óptimo de clúster en el que se divide el conjunto de datos."
   ]
  },
  {
   "cell_type": "markdown",
   "metadata": {},
   "source": [
    "##### Importamos las librerias que necesitaremos"
   ]
  },
  {
   "cell_type": "code",
   "execution_count": 27,
   "metadata": {},
   "outputs": [],
   "source": [
    "import pandas as pd\n",
    "import numpy as np\n",
    "import matplotlib.pyplot as plt\n",
    "from sklearn.cluster import KMeans\n",
    "from sklearn.metrics import silhouette_score"
   ]
  },
  {
   "cell_type": "markdown",
   "metadata": {},
   "source": [
    "##### leemos el archivo. Cambiar la carpeta a path relativo o la carpeta que corresponda"
   ]
  },
  {
   "cell_type": "code",
   "execution_count": 28,
   "metadata": {},
   "outputs": [],
   "source": [
    "data_raw = pd.read_csv('C:\\\\Users\\\\javij\\\\Desktop\\\\Master\\\\Aprendizaje_Automatico_Aplicado\\\\crime_data.csv')"
   ]
  },
  {
   "cell_type": "markdown",
   "metadata": {},
   "source": [
    "##### Resumen general del dataset"
   ]
  },
  {
   "cell_type": "code",
   "execution_count": 29,
   "metadata": {},
   "outputs": [
    {
     "data": {
      "text/html": [
       "<div>\n",
       "<style scoped>\n",
       "    .dataframe tbody tr th:only-of-type {\n",
       "        vertical-align: middle;\n",
       "    }\n",
       "\n",
       "    .dataframe tbody tr th {\n",
       "        vertical-align: top;\n",
       "    }\n",
       "\n",
       "    .dataframe thead th {\n",
       "        text-align: right;\n",
       "    }\n",
       "</style>\n",
       "<table border=\"1\" class=\"dataframe\">\n",
       "  <thead>\n",
       "    <tr style=\"text-align: right;\">\n",
       "      <th></th>\n",
       "      <th>Murder</th>\n",
       "      <th>Assault</th>\n",
       "      <th>UrbanPop</th>\n",
       "      <th>Rape</th>\n",
       "    </tr>\n",
       "  </thead>\n",
       "  <tbody>\n",
       "    <tr>\n",
       "      <th>count</th>\n",
       "      <td>50.00000</td>\n",
       "      <td>50.000000</td>\n",
       "      <td>50.000000</td>\n",
       "      <td>50.000000</td>\n",
       "    </tr>\n",
       "    <tr>\n",
       "      <th>mean</th>\n",
       "      <td>7.78800</td>\n",
       "      <td>170.760000</td>\n",
       "      <td>65.540000</td>\n",
       "      <td>21.232000</td>\n",
       "    </tr>\n",
       "    <tr>\n",
       "      <th>std</th>\n",
       "      <td>4.35551</td>\n",
       "      <td>83.337661</td>\n",
       "      <td>14.474763</td>\n",
       "      <td>9.366385</td>\n",
       "    </tr>\n",
       "    <tr>\n",
       "      <th>min</th>\n",
       "      <td>0.80000</td>\n",
       "      <td>45.000000</td>\n",
       "      <td>32.000000</td>\n",
       "      <td>7.300000</td>\n",
       "    </tr>\n",
       "    <tr>\n",
       "      <th>25%</th>\n",
       "      <td>4.07500</td>\n",
       "      <td>109.000000</td>\n",
       "      <td>54.500000</td>\n",
       "      <td>15.075000</td>\n",
       "    </tr>\n",
       "    <tr>\n",
       "      <th>50%</th>\n",
       "      <td>7.25000</td>\n",
       "      <td>159.000000</td>\n",
       "      <td>66.000000</td>\n",
       "      <td>20.100000</td>\n",
       "    </tr>\n",
       "    <tr>\n",
       "      <th>75%</th>\n",
       "      <td>11.25000</td>\n",
       "      <td>249.000000</td>\n",
       "      <td>77.750000</td>\n",
       "      <td>26.175000</td>\n",
       "    </tr>\n",
       "    <tr>\n",
       "      <th>max</th>\n",
       "      <td>17.40000</td>\n",
       "      <td>337.000000</td>\n",
       "      <td>91.000000</td>\n",
       "      <td>46.000000</td>\n",
       "    </tr>\n",
       "  </tbody>\n",
       "</table>\n",
       "</div>"
      ],
      "text/plain": [
       "         Murder     Assault   UrbanPop       Rape\n",
       "count  50.00000   50.000000  50.000000  50.000000\n",
       "mean    7.78800  170.760000  65.540000  21.232000\n",
       "std     4.35551   83.337661  14.474763   9.366385\n",
       "min     0.80000   45.000000  32.000000   7.300000\n",
       "25%     4.07500  109.000000  54.500000  15.075000\n",
       "50%     7.25000  159.000000  66.000000  20.100000\n",
       "75%    11.25000  249.000000  77.750000  26.175000\n",
       "max    17.40000  337.000000  91.000000  46.000000"
      ]
     },
     "execution_count": 29,
     "metadata": {},
     "output_type": "execute_result"
    }
   ],
   "source": [
    "data_raw.describe()"
   ]
  },
  {
   "cell_type": "markdown",
   "metadata": {},
   "source": [
    "##### Quitamos del set de datos la columna State, ya que no haremos data minig con ella"
   ]
  },
  {
   "cell_type": "code",
   "execution_count": 30,
   "metadata": {},
   "outputs": [],
   "source": [
    "a = data_raw.drop('State',axis=1) "
   ]
  },
  {
   "cell_type": "markdown",
   "metadata": {},
   "source": [
    "##### escalamos los valores para tener media 0 y desviacion estandar 1. a_scale es un numpy-array, no un DF.\n",
    "##### Antes debemos importar esta funcion de sklearn"
   ]
  },
  {
   "cell_type": "code",
   "execution_count": 32,
   "metadata": {},
   "outputs": [],
   "source": [
    "from sklearn.preprocessing import scale\n",
    "a_scale = scale(a) "
   ]
  },
  {
   "cell_type": "markdown",
   "metadata": {},
   "source": [
    "##### Sacamos el numero optimo de clusters con el metodo del codo. Usamos la funcion que se nos da en los apuntes. Este metodo, en resumen\n",
    "##### indica a partir de que numero \"k\" de clusteres la ganancia es escasa, y por tanto no es ventajoso seguir aumentando \"k\""
   ]
  },
  {
   "cell_type": "code",
   "execution_count": 33,
   "metadata": {},
   "outputs": [
    {
     "data": {
      "image/png": "[encoded data removed]",
      "text/plain": [
       "<Figure size 432x288 with 1 Axes>"
      ]
     },
     "metadata": {
      "image/png": {
       "height": 277,
       "width": 389
      },
      "needs_background": "light"
     },
     "output_type": "display_data"
    }
   ],
   "source": [
    "def plot_dispersion(x, figure_name, max_k = 10, n_init = 10):\n",
    "    inertia = []\n",
    "\n",
    "    for k in range(1, max_k):\n",
    "        kmeans = KMeans(n_clusters = k, n_init = n_init).fit(x)\n",
    "        inertia.append(kmeans.inertia_)\n",
    "\n",
    "    plt.plot(range(1, max_k), inertia, 'bx-')\n",
    "    plt.xlabel('k')\n",
    "    plt.ylabel(u'Dispersión')\n",
    "    plt.title(figure_name)\n",
    "\n",
    "plot_dispersion(a_scale,'Crime')"
   ]
  },
  {
   "cell_type": "markdown",
   "metadata": {},
   "source": [
    "##### parece que el codo esta en k=4 pero lo miramos con silhouete"
   ]
  },
  {
   "cell_type": "code",
   "execution_count": null,
   "metadata": {},
   "outputs": [],
   "source": [
    "def plot_sillhouette(blobs, figure_name, max_k = 10, n_init = 10):\n",
    "    sillhouette_avgs = []\n",
    "\n",
    "    for k in range(2, max_k):\n",
    "        kmean = KMeans(n_clusters = k, n_init = n_init).fit(blobs)\n",
    "        sillhouette_avgs.append(silhouette_score(blobs, kmean.labels_))\n",
    "\n",
    "    plt.plot(range(2, max_k), sillhouette_avgs)\n",
    "    plt.title(figure_name)\n",
    "\n",
    "\n",
    "plot_sillhouette(a_scale, 'crime')"
   ]
  },
  {
   "cell_type": "markdown",
   "metadata": {},
   "source": [
    "##### Se observa un maximo para k = 4. Por tanto el numero de clusters es 4. Hacemos el modelo KMeans"
   ]
  },
  {
   "cell_type": "code",
   "execution_count": 34,
   "metadata": {},
   "outputs": [],
   "source": [
    "km = KMeans(n_clusters=4, random_state=1).fit(a_scale)\n",
    "centroids = km.cluster_centers_"
   ]
  },
  {
   "cell_type": "markdown",
   "metadata": {},
   "source": [
    "##### Sacamos en consola los resultadios. Cada fila son las coordenadas 4-dimensionales de cada centroide"
   ]
  },
  {
   "cell_type": "code",
   "execution_count": 36,
   "metadata": {},
   "outputs": [
    {
     "name": "stdout",
     "output_type": "stream",
     "text": [
      "[[ 0.70212683  1.04999438  0.72997363  1.28990383]\n",
      " [ 1.42622412  0.88321132 -0.82279055  0.01946669]\n",
      " [-0.97130281 -1.11783581 -0.93954982 -0.97657842]\n",
      " [-0.49440658 -0.3864845   0.58167593 -0.26431024]]\n"
     ]
    }
   ],
   "source": [
    "print(centroids) "
   ]
  },
  {
   "cell_type": "markdown",
   "metadata": {},
   "source": [
    "##### Probamos a cambiar el random_state a 10 por si hubiera alguna diferencia"
   ]
  },
  {
   "cell_type": "code",
   "execution_count": 37,
   "metadata": {},
   "outputs": [
    {
     "name": "stdout",
     "output_type": "stream",
     "text": [
      "[[ 1.42622412  0.88321132 -0.82279055  0.01946669]\n",
      " [ 0.70212683  1.04999438  0.72997363  1.28990383]\n",
      " [-0.49440658 -0.3864845   0.58167593 -0.26431024]\n",
      " [-0.97130281 -1.11783581 -0.93954982 -0.97657842]]\n"
     ]
    }
   ],
   "source": [
    "km2 = KMeans(n_clusters=4, random_state=10).fit(a_scale)\n",
    "centroids2 = km2.cluster_centers_ # \n",
    "print(centroids2)\n",
    "## el resultado son 4 centroides,de 0 a 3, cuyas coordenadas 4-dimensionales se leen por filas."
   ]
  },
  {
   "cell_type": "markdown",
   "metadata": {},
   "source": [
    "##### Son los mismos centroides (se leen por filas) pero desorganizados respecto al primer “km”. Seguimos adelante con km"
   ]
  },
  {
   "cell_type": "markdown",
   "metadata": {},
   "source": [
    "##### Para saber a que cluster pertenece cada estado, calculamos la distancia euclidea a cada centroide. \n",
    "##### Para cada estado tendremos una fila de 4 distancias y nos quedamos con\n",
    "##### la que sea minima. Despues habra que buscar la columna de ese minimo"
   ]
  },
  {
   "cell_type": "code",
   "execution_count": 38,
   "metadata": {},
   "outputs": [],
   "source": [
    "indx = [0,1,2,3] # indice para recorrer las 4 columnas\n",
    "p = np.linspace(0,49,50,dtype='int') # indice para recorrer los estados de 0 a 49\n",
    "distances = np.zeros((50,4)) # inicializar matriz de distancias\n",
    "for i in p:\n",
    "    for j in indx:\n",
    "        d=np.linalg.norm(a_scale[i,] - centroids[j,])\n",
    "        distances[i,j] = d # va almacenando cada distancia en distances[i,j]\n"
   ]
  },
  {
   "cell_type": "markdown",
   "metadata": {},
   "source": [
    "##### El primer estado, ALabama, esta a 1.90 del centroide 0, a 0.35 del centroide 1, a 3.11 del centroide 2.."
   ]
  },
  {
   "cell_type": "code",
   "execution_count": 39,
   "metadata": {},
   "outputs": [
    {
     "name": "stdout",
     "output_type": "stream",
     "text": [
      "[[1.90362352 0.35537674 3.1173551  2.39633991]\n",
      " [2.31211973 2.69258382 4.40858258 3.77264707]\n",
      " [0.85288361 2.5750427  3.97848805 2.40333173]\n",
      " [2.52161396 1.39758379 1.98105037 1.92295548]\n",
      " [1.40080186 3.53628207 4.90635127 3.21395573]\n",
      " [1.11723515 2.92087532 3.84218786 2.36466123]\n",
      " [3.45128404 3.54678125 1.78576625 1.07469177]\n",
      " [2.22511334 2.33837537 2.4711004  1.25193111]\n",
      " [1.45362277 2.4447865  5.04728308 3.59759521]\n",
      " [2.1285334  1.10245553 3.90972318 3.11340299]\n",
      " [3.22541569 3.73297727 2.39098772 1.30502519]\n",
      " [3.59947299 3.12487442 0.60989838 1.6500643 ]\n",
      " [1.11403932 2.2185656  3.61100986 1.92731802]\n",
      " [2.46663934 2.35945255 1.6094773  0.81696007]\n",
      " [4.1573849  3.71800448 0.55411611 1.92081586]\n",
      " [2.71983643 2.5857275  1.35781393 0.63185068]\n",
      " [3.07020305 1.98686175 1.52826376 1.84737339]\n",
      " [1.74165438 0.92593178 3.724435   2.7067668 ]\n",
      " [4.3700236  3.6769699  0.59365463 2.25610239]\n",
      " [1.0060569  1.47333543 3.78399834 2.58918456]\n",
      " [2.76645148 3.35686447 2.49812072 0.87995967]\n",
      " [0.38911615 2.09208891 4.1126535  2.70411222]\n",
      " [3.6015128  3.51345979 1.03932965 1.26665511]\n",
      " [3.08249566 0.98263198 3.71335    3.5166262 ]\n",
      " [1.25235279 1.94061297 2.75184907 1.3897069 ]\n",
      " [3.21533975 2.5192739  0.81101488 1.5250336 ]\n",
      " [3.16641634 2.92491742 0.89675463 1.02275802]\n",
      " [1.46188563 3.28950247 5.07734852 3.61219558]\n",
      " [4.29678475 3.78546137 0.58948239 2.05505122]\n",
      " [2.29825296 3.07929289 2.97956266 1.15637826]\n",
      " [0.5653634  1.79233759 3.96442648 2.65483245]\n",
      " [1.03833104 2.40204646 3.92533638 2.20914675]\n",
      " [3.04407168 1.42458119 3.87176834 3.57944421]\n",
      " [4.98073566 4.22606489 1.08689236 2.90573446]\n",
      " [2.24947662 2.61044803 2.13014652 0.53254843]\n",
      " [2.22589795 2.27346487 1.78947467 0.50486088]\n",
      " [1.96851208 2.65031008 2.35308278 1.26783446]\n",
      " [2.90407571 2.83475647 1.58817968 0.61107991]\n",
      " [3.43157635 3.75088879 2.73051897 1.60369844]\n",
      " [2.43060539 0.60839379 3.67403535 3.22781127]\n",
      " [4.05955302 3.22705937 0.50868738 2.25230182]\n",
      " [1.69741351 0.98404535 3.07772252 2.29344807]\n",
      " [1.19344864 1.97472891 3.53830705 1.98583645]\n",
      " [2.68377069 3.43928374 2.32291248 0.86999379]\n",
      " [5.04859832 4.06818813 1.4888456  3.32632712]\n",
      " [2.10637164 1.77230672 1.89712563 1.04732129]\n",
      " [2.22860701 2.96855793 2.25320351 0.89272497]\n",
      " [4.39153298 3.20962114 1.08037545 2.7315433 ]\n",
      " [4.01085833 3.78070532 1.05630216 1.62137898]\n",
      " [2.66059026 2.08001899 1.41134288 1.09434845]]\n"
     ]
    }
   ],
   "source": [
    "print(distances) "
   ]
  },
  {
   "cell_type": "markdown",
   "metadata": {},
   "source": [
    "##### Sacamos la posicion del minimo de cada fila y lo almacenamos en una lista que llamo clus_list"
   ]
  },
  {
   "cell_type": "code",
   "execution_count": 41,
   "metadata": {},
   "outputs": [],
   "source": [
    "clus_list = list() ## inicializar lista\n",
    "\n",
    "for i in p:\n",
    "    for j in indx:\n",
    "        if distances[i,j] == min(distances[i,]):\n",
    "            clus_list.append(j)"
   ]
  },
  {
   "cell_type": "code",
   "execution_count": 42,
   "metadata": {},
   "outputs": [
    {
     "name": "stdout",
     "output_type": "stream",
     "text": [
      "[1, 0, 0, 1, 0, 0, 3, 3, 0, 1, 3, 2, 0, 3, 2, 3, 2, 1, 2, 0, 3, 0, 2, 1, 0, 2, 2, 0, 2, 3, 0, 0, 1, 2, 3, 3, 3, 3, 3, 1, 2, 1, 0, 3, 2, 3, 3, 2, 2, 3]\n"
     ]
    }
   ],
   "source": [
    "print(clus_list)"
   ]
  },
  {
   "cell_type": "markdown",
   "metadata": {},
   "source": [
    "##### El resultado es correcto ya que es igual al dado por km.labels_"
   ]
  },
  {
   "cell_type": "code",
   "execution_count": 43,
   "metadata": {},
   "outputs": [
    {
     "name": "stdout",
     "output_type": "stream",
     "text": [
      "[1 0 0 1 0 0 3 3 0 1 3 2 0 3 2 3 2 1 2 0 3 0 2 1 0 2 2 0 2 3 0 0 1 2 3 3 3\n",
      " 3 3 1 2 1 0 3 2 3 3 2 2 3]\n"
     ]
    }
   ],
   "source": [
    "print(km.labels_)"
   ]
  },
  {
   "cell_type": "markdown",
   "metadata": {},
   "source": [
    "##### Por ultimo adjuntamos la columna \"Cluster\" al dataset"
   ]
  },
  {
   "cell_type": "code",
   "execution_count": 45,
   "metadata": {},
   "outputs": [
    {
     "name": "stdout",
     "output_type": "stream",
     "text": [
      "             State  Murder  Assault  UrbanPop  Rape  Cluster\n",
      "0          Alabama    13.2      236        58  21.2        1\n",
      "1           Alaska    10.0      263        48  44.5        0\n",
      "2          Arizona     8.1      294        80  31.0        0\n",
      "3         Arkansas     8.8      190        50  19.5        1\n",
      "4       California     9.0      276        91  40.6        0\n",
      "5         Colorado     7.9      204        78  38.7        0\n",
      "6      Connecticut     3.3      110        77  11.1        3\n",
      "7         Delaware     5.9      238        72  15.8        3\n",
      "8          Florida    15.4      335        80  31.9        0\n",
      "9          Georgia    17.4      211        60  25.8        1\n",
      "10          Hawaii     5.3       46        83  20.2        3\n",
      "11           Idaho     2.6      120        54  14.2        2\n",
      "12        Illinois    10.4      249        83  24.0        0\n",
      "13         Indiana     7.2      113        65  21.0        3\n",
      "14            Iowa     2.2       56        57  11.3        2\n",
      "15          Kansas     6.0      115        66  18.0        3\n",
      "16        Kentucky     9.7      109        52  16.3        2\n",
      "17       Louisiana    15.4      249        66  22.2        1\n",
      "18           Maine     2.1       83        51   7.8        2\n",
      "19        Maryland    11.3      300        67  27.8        0\n",
      "20   Massachusetts     4.4      149        85  16.3        3\n",
      "21        Michigan    12.1      255        74  35.1        0\n",
      "22       Minnesota     2.7       72        66  14.9        2\n",
      "23     Mississippi    16.1      259        44  17.1        1\n",
      "24        Missouri     9.0      178        70  28.2        0\n",
      "25         Montana     6.0      109        53  16.4        2\n",
      "26        Nebraska     4.3      102        62  16.5        2\n",
      "27          Nevada    12.2      252        81  46.0        0\n",
      "28   New Hampshire     2.1       57        56   9.5        2\n",
      "29      New Jersey     7.4      159        89  18.8        3\n",
      "30      New Mexico    11.4      285        70  32.1        0\n",
      "31        New York    11.1      254        86  26.1        0\n",
      "32  North Carolina    13.0      337        45  16.1        1\n",
      "33    North Dakota     0.8       45        44   7.3        2\n",
      "34            Ohio     7.3      120        75  21.4        3\n",
      "35        Oklahoma     6.6      151        68  20.0        3\n",
      "36          Oregon     4.9      159        67  29.3        3\n",
      "37    Pennsylvania     6.3      106        72  14.9        3\n",
      "38    Rhode Island     3.4      174        87   8.3        3\n",
      "39  South Carolina    14.4      279        48  22.5        1\n",
      "40    South Dakota     3.8       86        45  12.8        2\n",
      "41       Tennessee    13.2      188        59  26.9        1\n",
      "42           Texas    12.7      201        80  25.5        0\n",
      "43            Utah     3.2      120        80  22.9        3\n",
      "44         Vermont     2.2       48        32  11.2        2\n",
      "45        Virginia     8.5      156        63  20.7        3\n",
      "46      Washington     4.0      145        73  26.2        3\n",
      "47   West Virginia     5.7       81        39   9.3        2\n",
      "48       Wisconsin     2.6       53        66  10.8        2\n",
      "49         Wyoming     6.8      161        60  15.6        3\n"
     ]
    }
   ],
   "source": [
    "data_raw['Cluster']=clus_list\n",
    "print(data_raw)"
   ]
  },
  {
   "cell_type": "markdown",
   "metadata": {},
   "source": [
    "#### Con esto queda terminado el caso practico del tema 3 sobre Aprendizaje Automatico"
   ]
  }
 ],
 "metadata": {
  "kernelspec": {
   "display_name": "Python 3",
   "language": "python",
   "name": "python3"
  },
  "language_info": {
   "codemirror_mode": {
    "name": "ipython",
    "version": 3
   },
   "file_extension": ".py",
   "mimetype": "text/x-python",
   "name": "python",
   "nbconvert_exporter": "python",
   "pygments_lexer": "ipython3",
   "version": "3.7.3"
  }
 },
 "nbformat": 4,
 "nbformat_minor": 2
}
